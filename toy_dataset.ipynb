{
 "cells": [
  {
   "cell_type": "markdown",
   "id": "f217822f",
   "metadata": {},
   "source": [
    "https://scikit-learn.org/stable/datasets/toy_dataset.html\n",
    "\n",
    "# 7.1. Toy datasets\n",
    "\n",
    "scikit-learn comes with a few small standard datasets that do not require to download any file from some external website.\n",
    "\n",
    "They can be loaded using the following functions:\n",
    "\n",
    "`load_boston(*[, return_X_y])`\n",
    "DEPRECATED: load_boston is deprecated in 1.0 and will be removed in 1.2.\n",
    "\n",
    "`load_iris(*[, return_X_y, as_frame])`\n",
    "Load and return the iris dataset (classification).\n",
    "\n",
    "`load_diabetes(*[, return_X_y, as_frame])`\n",
    "Load and return the diabetes dataset (regression).\n",
    "\n",
    "`load_digits(*[, n_class, return_X_y, as_frame])`\n",
    "Load and return the digits dataset (classification).\n",
    "\n",
    "`load_linnerud(*[, return_X_y, as_frame])`\n",
    "Load and return the physical exercise Linnerud dataset.\n",
    "\n",
    "`load_wine(*[, return_X_y, as_frame])`\n",
    "Load and return the wine dataset (classification).\n",
    "\n",
    "`load_breast_cancer(*[, return_X_y, as_frame])`\n",
    "Load and return the breast cancer wisconsin dataset (classification).\n",
    "\n",
    "These datasets are useful to quickly illustrate the behavior of the various algorithms implemented in scikit-learn. They are however often too small to be representative of real world machine learning tasks."
   ]
  },
  {
   "cell_type": "markdown",
   "id": "b1cae7bb",
   "metadata": {},
   "source": [
    "## Import"
   ]
  },
  {
   "cell_type": "code",
   "execution_count": 4,
   "id": "eefa7b97",
   "metadata": {},
   "outputs": [],
   "source": [
    "# import modules\n",
    "import pandas as pd\n",
    "import sklearn.datasets"
   ]
  },
  {
   "cell_type": "code",
   "execution_count": 2,
   "id": "87e2c15a",
   "metadata": {},
   "outputs": [],
   "source": [
    "# import data\n",
    "boston = sklearn.datasets.load_boston()\n",
    "iris = sklearn.datasets.load_iris()\n",
    "diabetes = sklearn.datasets.load_diabetes()\n",
    "digits = sklearn.datasets.load_digits()\n",
    "linnerud = sklearn.datasets.load_linnerud()\n",
    "wine = sklearn.datasets.load_wine()\n",
    "breast_cancer = sklearn.datasets.load_breast_cancer()"
   ]
  },
  {
   "cell_type": "markdown",
   "id": "6ea41451",
   "metadata": {},
   "source": [
    "## Transform"
   ]
  },
  {
   "cell_type": "code",
   "execution_count": null,
   "id": "738645ba",
   "metadata": {},
   "outputs": [],
   "source": [
    "### 'boston'\n",
    "\n",
    "Data Set Characteristics: \n",
    "\n",
    "Number of Instances: 506\n",
    "\n",
    "Number of Attributes:\n",
    "\n",
    "- 13 numeric/categorical predictive\n",
    "\n",
    "- Median Value (attribute 14) is usually the target\n",
    "\n",
    "Attribute Information (in order)\n",
    "\n",
    "- CRIM per capita crime rate by town\n",
    "\n",
    "- ZN proportion of residential land zoned for lots over 25,000 sq.ft.\n",
    "\n",
    "- INDUS proportion of non-retail business acres per town\n",
    "\n",
    "- CHAS Charles River dummy variable (= 1 if tract bounds river; 0 otherwise)\n",
    "\n",
    "- NOX nitric oxides concentration (parts per 10 million)\n",
    "\n",
    "- RM average number of rooms per dwelling\n",
    "\n",
    "- AGE proportion of owner-occupied units built prior to 1940\n",
    "\n",
    "- DIS weighted distances to five Boston employment centres\n",
    "\n",
    "- RAD index of accessibility to radial highways\n",
    "\n",
    "- TAX full-value property-tax rate per $10,000\n",
    "\n",
    "- PTRATIO pupil-teacher ratio by town\n",
    "\n",
    "- B 1000(Bk - 0.63)^2 where Bk is the proportion of black people by town\n",
    "\n",
    "- LSTAT % lower status of the population\n",
    "\n",
    "- MEDV Median value of owner-occupied homes in $1000’s"
   ]
  },
  {
   "cell_type": "code",
   "execution_count": 10,
   "id": "9a63195e",
   "metadata": {},
   "outputs": [
    {
     "name": "stdout",
     "output_type": "stream",
     "text": [
      "<class 'pandas.core.frame.DataFrame'>\n",
      "RangeIndex: 506 entries, 0 to 505\n",
      "Data columns (total 14 columns):\n",
      " #   Column   Non-Null Count  Dtype  \n",
      "---  ------   --------------  -----  \n",
      " 0   CRIM     506 non-null    float64\n",
      " 1   ZN       506 non-null    float64\n",
      " 2   INDUS    506 non-null    float64\n",
      " 3   CHAS     506 non-null    float64\n",
      " 4   NOX      506 non-null    float64\n",
      " 5   RM       506 non-null    float64\n",
      " 6   AGE      506 non-null    float64\n",
      " 7   DIS      506 non-null    float64\n",
      " 8   RAD      506 non-null    float64\n",
      " 9   TAX      506 non-null    float64\n",
      " 10  PTRATIO  506 non-null    float64\n",
      " 11  B        506 non-null    float64\n",
      " 12  LSTAT    506 non-null    float64\n",
      " 13  MDEV     506 non-null    float64\n",
      "dtypes: float64(14)\n",
      "memory usage: 55.5 KB\n"
     ]
    }
   ],
   "source": [
    "boston_df = pd.DataFrame(boston.data)\n",
    "boston_df.columns = [\n",
    "    'CRIM', 'ZN', 'INDUS', 'CHAS', 'NOX', 'RM', 'AGE', 'DIS', 'RAD', 'TAX', 'PTRATIO', 'B', 'LSTAT'\n",
    "]\n",
    "boston_df['MDEV'] = boston.target\n",
    "boston_df.info()"
   ]
  },
  {
   "cell_type": "code",
   "execution_count": 11,
   "id": "87e79a84",
   "metadata": {},
   "outputs": [],
   "source": [
    "boston_df.to_csv('boston_skl.csv', index=False)"
   ]
  },
  {
   "cell_type": "markdown",
   "id": "1f2f7c46",
   "metadata": {},
   "source": [
    "### 'iris'\n",
    "\n",
    "Data Set Characteristics:\n",
    "\n",
    "Number of Instances: 150 (50 in each of three classes)\n",
    "\n",
    "Number of Attributes: 4 numeric, predictive attributes and the class\n",
    "\n",
    "Attribute Information\n",
    "\n",
    "- `sepal length` in cm\n",
    "\n",
    "- `sepal width` in cm\n",
    "\n",
    "- `petal length` in cm\n",
    "\n",
    "- `petal width` in cm\n",
    "\n",
    "- `class`:\n",
    "    + Iris-Setosa\n",
    "    + Iris-Versicolour\n",
    "    + Iris-Virginica"
   ]
  },
  {
   "cell_type": "code",
   "execution_count": 12,
   "id": "2786e17f",
   "metadata": {},
   "outputs": [
    {
     "name": "stdout",
     "output_type": "stream",
     "text": [
      "<class 'pandas.core.frame.DataFrame'>\n",
      "RangeIndex: 150 entries, 0 to 149\n",
      "Data columns (total 5 columns):\n",
      " #   Column        Non-Null Count  Dtype  \n",
      "---  ------        --------------  -----  \n",
      " 0   sepal_length  150 non-null    float64\n",
      " 1   sepal_width   150 non-null    float64\n",
      " 2   petal_length  150 non-null    float64\n",
      " 3   petal_width   150 non-null    float64\n",
      " 4   class         150 non-null    int64  \n",
      "dtypes: float64(4), int64(1)\n",
      "memory usage: 6.0 KB\n"
     ]
    }
   ],
   "source": [
    "iris_df = pd.DataFrame(iris.data)\n",
    "iris_df.columns = ['sepal_length', 'sepal_width', 'petal_length', 'petal_width']\n",
    "iris_df['class'] = iris.target\n",
    "iris_df.info()"
   ]
  },
  {
   "cell_type": "code",
   "execution_count": 13,
   "id": "bfbf74f4",
   "metadata": {},
   "outputs": [],
   "source": [
    "iris_df.to_csv('iris_skl.csv', index=False)"
   ]
  },
  {
   "cell_type": "code",
   "execution_count": null,
   "id": "cfca91d3",
   "metadata": {},
   "outputs": [],
   "source": [
    "### 'diabetes'\n",
    "\n",
    "Data Set Characteristics:\n",
    "\n",
    "Number of Instances: 442\n",
    "\n",
    "Number of Attributes: First 10 columns are numeric predictive values\n",
    "\n",
    "Target: Column 11 is a quantitative measure of disease progression one year after baseline\n",
    "\n",
    "Attribute Information\n",
    "\n",
    "- age: age in years\n",
    "\n",
    "- sex\n",
    "\n",
    "- bmi: body mass index\n",
    "\n",
    "- bp: average blood pressure\n",
    "\n",
    "- s1: tc, total serum cholesterol\n",
    "\n",
    "- s2: ldl, low-density lipoproteins\n",
    "\n",
    "- s3: hdl, high-density lipoproteins\n",
    "\n",
    "- s4: tch, total cholesterol / HDL\n",
    "\n",
    "- s5: ltg, possibly log of serum triglycerides level\n",
    "\n",
    "- s6: glu, blood sugar level"
   ]
  },
  {
   "cell_type": "code",
   "execution_count": null,
   "id": "3fb370b0",
   "metadata": {},
   "outputs": [],
   "source": []
  },
  {
   "cell_type": "code",
   "execution_count": null,
   "id": "b4a90433",
   "metadata": {},
   "outputs": [],
   "source": []
  }
 ],
 "metadata": {
  "kernelspec": {
   "display_name": "Python 3",
   "language": "python",
   "name": "python3"
  },
  "language_info": {
   "codemirror_mode": {
    "name": "ipython",
    "version": 3
   },
   "file_extension": ".py",
   "mimetype": "text/x-python",
   "name": "python",
   "nbconvert_exporter": "python",
   "pygments_lexer": "ipython3",
   "version": "3.7.7"
  }
 },
 "nbformat": 4,
 "nbformat_minor": 5
}
